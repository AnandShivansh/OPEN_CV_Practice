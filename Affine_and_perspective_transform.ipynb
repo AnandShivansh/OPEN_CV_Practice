{
 "cells": [
  {
   "cell_type": "code",
   "execution_count": 1,
   "metadata": {
    "collapsed": true
   },
   "outputs": [],
   "source": [
    "import cv2\n",
    "import numpy as np"
   ]
  },
  {
   "cell_type": "code",
   "execution_count": 2,
   "outputs": [],
   "source": [
    "img = cv2.imread('./images/scan.jpg')\n",
    "cv2.imshow('Original',img)\n",
    "cv2.waitKey()\n",
    "\n",
    "pt_A = np.float32([[320,15],[700,215],[85,610],[530,780]])\n",
    "pt_B = np.float32([[0,0],[420,0],[0,594],[420,594]])\n",
    "M = cv2.getPerspectiveTransform(pt_A,pt_B)\n",
    "warped = cv2.warpPerspective(img,M,(420,594))\n",
    "cv2.imshow('Wreap Perspective',warped)\n",
    "cv2.waitKey()\n",
    "cv2.destroyAllWindows()"
   ],
   "metadata": {
    "collapsed": false,
    "pycharm": {
     "name": "#%%\n"
    }
   }
  },
  {
   "cell_type": "code",
   "execution_count": 3,
   "outputs": [],
   "source": [
    "img = cv2.imread('./images/ex2.jpg')\n",
    "cv2.imshow('original',img)\n",
    "cv2.waitKey()\n",
    "row,col = img.shape[:2]\n",
    "pts_A = np.float32([[320,15],[700,215],[85,610]])\n",
    "pts_B = np.float32([[0,0],[420,0],[0,594]])\n",
    "M = cv2.getAffineTransform(pts_A,pts_B)\n",
    "warp = cv2.warpAffine(img,M,(col,row))\n",
    "cv2.imshow('Aff',warp)\n",
    "cv2.waitKey()\n",
    "cv2.destroyAllWindows()\n",
    "\n"
   ],
   "metadata": {
    "collapsed": false,
    "pycharm": {
     "name": "#%%\n"
    }
   }
  }
 ],
 "metadata": {
  "kernelspec": {
   "display_name": "Python 2",
   "language": "python",
   "name": "python2"
  },
  "language_info": {
   "codemirror_mode": {
    "name": "ipython",
    "version": 2
   },
   "file_extension": ".py",
   "mimetype": "text/x-python",
   "name": "python",
   "nbconvert_exporter": "python",
   "pygments_lexer": "ipython2",
   "version": "2.7.6"
  }
 },
 "nbformat": 4,
 "nbformat_minor": 0
}