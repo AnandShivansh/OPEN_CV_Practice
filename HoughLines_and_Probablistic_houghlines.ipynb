{
 "cells": [
  {
   "cell_type": "code",
   "execution_count": 2,
   "metadata": {
    "collapsed": true
   },
   "outputs": [],
   "source": [
    "import cv2\n",
    "import numpy as np"
   ]
  },
  {
   "cell_type": "code",
   "execution_count": 3,
   "outputs": [],
   "source": [
    "img = cv2.imread('./images/soduku.jpg')\n",
    "img_orig = img.copy()\n",
    "cv2.imshow('Original',img)\n",
    "cv2.waitKey()\n",
    "img_gray = cv2.cvtColor(img,cv2.COLOR_BGR2GRAY)\n",
    "img_canny = cv2.Canny(img_gray,100,120,apertureSize=3)\n",
    "cv2.imshow('Canny',img_canny)\n",
    "cv2.waitKey()\n",
    "\n",
    "lines = cv2.HoughLines(img_canny,1,np.pi/180,220)\n",
    "\n",
    "for line in lines:\n",
    "    rho,theta = line[0]\n",
    "    a=np.cos(theta)\n",
    "    b=np.sin(theta)\n",
    "    x0=a*rho\n",
    "    y0=b*rho\n",
    "    x1 = int(x0+1000*(-b))\n",
    "    y1 = int(y0+1000*a)\n",
    "    x2 = int(x0-1000*(-b))\n",
    "    y2 = int(y0-1000*a)\n",
    "    cv2.line(img,(x1,y1),(x2,y2),(255,0,0),2)\n",
    "cv2.imshow('Lines',img)\n",
    "cv2.waitKey()\n",
    "cv2.destroyAllWindows()"
   ],
   "metadata": {
    "collapsed": false,
    "pycharm": {
     "name": "#%%\n"
    }
   }
  },
  {
   "cell_type": "code",
   "execution_count": 4,
   "outputs": [],
   "source": [
    "linesP = cv2.HoughLinesP(img_canny,1,np.pi/180,200,minLineLength=5,maxLineGap=10)\n",
    "\n",
    "for line in linesP:\n",
    "    x1,y1,x2,y2 = line[0]\n",
    "    cv2.line(img_orig,(x1,y1),(x2,y2),(0,255,0),2)\n",
    "cv2.imshow('LinesP',img_orig)\n",
    "cv2.waitKey()\n",
    "cv2.destroyAllWindows()"
   ],
   "metadata": {
    "collapsed": false,
    "pycharm": {
     "name": "#%%\n"
    }
   }
  },
  {
   "cell_type": "code",
   "execution_count": null,
   "outputs": [],
   "source": [
    "\n"
   ],
   "metadata": {
    "collapsed": false,
    "pycharm": {
     "name": "#%%\n"
    }
   }
  }
 ],
 "metadata": {
  "kernelspec": {
   "display_name": "Python 2",
   "language": "python",
   "name": "python2"
  },
  "language_info": {
   "codemirror_mode": {
    "name": "ipython",
    "version": 2
   },
   "file_extension": ".py",
   "mimetype": "text/x-python",
   "name": "python",
   "nbconvert_exporter": "python",
   "pygments_lexer": "ipython2",
   "version": "2.7.6"
  }
 },
 "nbformat": 4,
 "nbformat_minor": 0
}