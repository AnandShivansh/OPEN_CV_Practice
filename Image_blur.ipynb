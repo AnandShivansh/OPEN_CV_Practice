{
 "cells": [
  {
   "cell_type": "code",
   "execution_count": 3,
   "metadata": {},
   "outputs": [],
   "source": [
    "import cv2\n",
    "import numpy as np\n",
    "from matplotlib import pyplot as plt"
   ]
  },
  {
   "cell_type": "code",
   "execution_count": 4,
   "metadata": {
    "pycharm": {
     "name": "#%%\n"
    }
   },
   "outputs": [],
   "source": [
    "\n",
    "img = cv2.imread('./images/shivansh.png')\n",
    "cv2.imshow('Original',img)\n",
    "cv2.waitKey()\n",
    "cv2.destroyAllWindows()\n"
   ]
  },
  {
   "cell_type": "code",
   "execution_count": 5,
   "metadata": {
    "pycharm": {
     "name": "#%%\n"
    }
   },
   "outputs": [],
   "source": [
    "kernel_3x3 = np.ones((3,3),np.float32)/9\n",
    "blur_1 = cv2.filter2D(img,-1,kernel_3x3)\n",
    "cv2.imshow('Blur 3x3',blur_1)\n",
    "cv2.waitKey()\n",
    "cv2.destroyAllWindows()"
   ]
  },
  {
   "cell_type": "code",
   "execution_count": 6,
   "metadata": {
    "pycharm": {
     "name": "#%%\n"
    }
   },
   "outputs": [],
   "source": [
    "kernel_7x7 = np.ones((7,7),np.float32)/49\n",
    "blur_2 = cv2.filter2D(img,-1,kernel_7x7)\n",
    "cv2.imshow('Blur 7x7',blur_2)\n",
    "cv2.waitKey()\n",
    "cv2.destroyAllWindows()"
   ]
  },
  {
   "cell_type": "code",
   "execution_count": 7,
   "metadata": {
    "pycharm": {
     "name": "#%%\n"
    }
   },
   "outputs": [],
   "source": [
    "box_blur = cv2.blur(img,(7,7))\n",
    "gauss_blur = cv2.GaussianBlur(img,(7,7),0)\n",
    "median_blur = cv2.medianBlur(img,5)\n",
    "bilat_blur = cv2.bilateralFilter(img,9,75,75)\n",
    "cv2.imshow('Box_blur',box_blur)\n",
    "cv2.waitKey()\n",
    "cv2.imshow('Gauss Blur',gauss_blur)\n",
    "cv2.waitKey()\n",
    "cv2.imshow('Median blur',median_blur)\n",
    "cv2.waitKey()\n",
    "cv2.imshow('Bilateral blur',bilat_blur)\n",
    "cv2.waitKey()\n",
    "cv2.destroyAllWindows()"
   ]
  },
  {
   "cell_type": "code",
   "execution_count": 8,
   "metadata": {
    "pycharm": {
     "name": "#%%\n"
    }
   },
   "outputs": [],
   "source": [
    "cv2.imshow('Original',img)\n",
    "cv2.waitKey()\n",
    "noise_rem = cv2.fastNlMeansDenoisingColored(img,6,6,7,21)\n",
    "cv2.imshow('Noise Rem',noise_rem)\n",
    "cv2.waitKey()\n",
    "cv2.destroyAllWindows()"
   ]
  },
  {
   "cell_type": "code",
   "execution_count": 8,
   "metadata": {
    "pycharm": {
     "name": "#%%\n"
    }
   },
   "outputs": [],
   "source": []
  },
  {
   "cell_type": "code",
   "execution_count": 8,
   "metadata": {
    "pycharm": {
     "name": "#%%\n"
    }
   },
   "outputs": [],
   "source": [
    "\n"
   ]
  }
 ],
 "metadata": {
  "kernelspec": {
   "display_name": "Python 2",
   "language": "python",
   "name": "python2"
  },
  "language_info": {
   "codemirror_mode": {
    "name": "ipython",
    "version": 2
   },
   "file_extension": ".py",
   "mimetype": "text/x-python",
   "name": "python",
   "nbconvert_exporter": "python",
   "pygments_lexer": "ipython2",
   "version": "2.7.17"
  }
 },
 "nbformat": 4,
 "nbformat_minor": 1
}