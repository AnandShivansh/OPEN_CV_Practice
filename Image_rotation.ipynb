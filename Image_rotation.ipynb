{
 "cells": [
  {
   "cell_type": "code",
   "execution_count": 1,
   "metadata": {},
   "outputs": [],
   "source": [
    "import cv2\n",
    "import numpy as np\n",
    "from matplotlib import pyplot as plt"
   ]
  },
  {
   "cell_type": "code",
   "execution_count": 2,
   "metadata": {},
   "outputs": [
    {
     "name": "stdout",
     "output_type": "stream",
     "text": [
      "('OrigShape', (830, 1245, 3))\n",
      "[12 18 31]\n",
      "('NewShape', (830, 1245, 3))\n",
      "[0 0 0]\n"
     ]
    }
   ],
   "source": [
    "img = cv2.imread('./images/input.jpg')\n",
    "print('OrigShape',img.shape)\n",
    "print(img[0,0])\n",
    "h,w=img.shape[:2]\n",
    "rot_matrix=cv2.getRotationMatrix2D((w/2,h/2),-45,0.5)\n",
    "rot_img = cv2.warpAffine(img,rot_matrix,(w,h))\n",
    "cv2.imshow('Rot',rot_img)\n",
    "cv2.waitKey()\n",
    "cv2.destroyAllWindows()\n",
    "print('NewShape',rot_img.shape)\n",
    "print(rot_img[0,0])"
   ]
  },
  {
   "cell_type": "code",
   "execution_count": 3,
   "metadata": {
    "pycharm": {
     "name": "#%%\n"
    }
   },
   "outputs": [],
   "source": [
    "rot_img=cv2.transpose(img)\n",
    "cv2.imshow('Rot',rot_img)\n",
    "cv2.waitKey()\n",
    "cv2.destroyAllWindows()"
   ]
  }
 ],
 "metadata": {
  "kernelspec": {
   "display_name": "Python 2",
   "language": "python",
   "name": "python2"
  },
  "language_info": {
   "codemirror_mode": {
    "name": "ipython",
    "version": 2
   },
   "file_extension": ".py",
   "mimetype": "text/x-python",
   "name": "python",
   "nbconvert_exporter": "python",
   "pygments_lexer": "ipython2",
   "version": "2.7.17"
  }
 },
 "nbformat": 4,
 "nbformat_minor": 1
}