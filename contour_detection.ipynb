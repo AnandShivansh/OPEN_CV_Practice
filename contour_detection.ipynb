{
 "cells": [
  {
   "cell_type": "code",
   "execution_count": 1,
   "metadata": {
    "collapsed": true
   },
   "outputs": [],
   "source": [
    "import cv2\n",
    "import numpy as np"
   ]
  },
  {
   "cell_type": "code",
   "execution_count": 6,
   "outputs": [
    {
     "name": "stdout",
     "output_type": "stream",
     "text": [
      "[array([[[367, 158]],\n",
      "\n",
      "       [[368, 157]],\n",
      "\n",
      "       [[369, 157]],\n",
      "\n",
      "       ...,\n",
      "\n",
      "       [[366, 161]],\n",
      "\n",
      "       [[366, 160]],\n",
      "\n",
      "       [[366, 159]]], dtype=int32), array([[[368, 157]],\n",
      "\n",
      "       [[367, 158]],\n",
      "\n",
      "       [[366, 159]],\n",
      "\n",
      "       ...,\n",
      "\n",
      "       [[371, 157]],\n",
      "\n",
      "       [[370, 157]],\n",
      "\n",
      "       [[369, 157]]], dtype=int32), array([[[101, 119]],\n",
      "\n",
      "       [[102, 118]],\n",
      "\n",
      "       [[103, 118]],\n",
      "\n",
      "       ...,\n",
      "\n",
      "       [[ 98, 120]],\n",
      "\n",
      "       [[ 99, 119]],\n",
      "\n",
      "       [[100, 119]]], dtype=int32), array([[[102, 118]],\n",
      "\n",
      "       [[101, 119]],\n",
      "\n",
      "       [[100, 119]],\n",
      "\n",
      "       ...,\n",
      "\n",
      "       [[105, 118]],\n",
      "\n",
      "       [[104, 118]],\n",
      "\n",
      "       [[103, 118]]], dtype=int32), array([[[519,  64]],\n",
      "\n",
      "       [[520,  63]],\n",
      "\n",
      "       [[521,  63]],\n",
      "\n",
      "       ...,\n",
      "\n",
      "       [[518,  67]],\n",
      "\n",
      "       [[518,  66]],\n",
      "\n",
      "       [[518,  65]]], dtype=int32), array([[[520,  63]],\n",
      "\n",
      "       [[519,  64]],\n",
      "\n",
      "       [[518,  65]],\n",
      "\n",
      "       ...,\n",
      "\n",
      "       [[523,  63]],\n",
      "\n",
      "       [[522,  63]],\n",
      "\n",
      "       [[521,  63]]], dtype=int32), array([[[15, 20]],\n",
      "\n",
      "       [[16, 19]],\n",
      "\n",
      "       [[17, 19]],\n",
      "\n",
      "       ...,\n",
      "\n",
      "       [[14, 23]],\n",
      "\n",
      "       [[15, 22]],\n",
      "\n",
      "       [[15, 21]]], dtype=int32), array([[[16, 19]],\n",
      "\n",
      "       [[15, 20]],\n",
      "\n",
      "       [[15, 21]],\n",
      "\n",
      "       ...,\n",
      "\n",
      "       [[19, 19]],\n",
      "\n",
      "       [[18, 19]],\n",
      "\n",
      "       [[17, 19]]], dtype=int32)]\n",
      "('Number of contours', '8')\n",
      "('Hierarchy', array([[[ 1, -1, -1, -1],\n",
      "        [ 2,  0, -1, -1],\n",
      "        [ 3,  1, -1, -1],\n",
      "        [ 4,  2, -1, -1],\n",
      "        [ 5,  3, -1, -1],\n",
      "        [ 6,  4, -1, -1],\n",
      "        [ 7,  5, -1, -1],\n",
      "        [-1,  6, -1, -1]]], dtype=int32))\n"
     ]
    }
   ],
   "source": [
    "img = cv2.imread('./images/shapes_donut.jpg')\n",
    "orig_img = img.copy()\n",
    "cv2.imshow('Input Image',img)\n",
    "cv2.waitKey()\n",
    "\n",
    "img_gray = cv2.cvtColor(img,cv2.COLOR_BGR2GRAY)\n",
    "\n",
    "img_canny = cv2.Canny(img_gray,30,200)\n",
    "cv2.imshow('Canny',img_canny)\n",
    "cv2.waitKey()\n",
    "contours,hierarchy = cv2.findContours(img_canny,cv2.RETR_LIST,cv2.CHAIN_APPROX_NONE)\n",
    "print contours\n",
    "print('Number of contours',str(len(contours)))\n",
    "print ('Hierarchy',hierarchy)\n",
    "for x in contours:\n",
    "    cv2.drawContours(orig_img,[x],-1,(0,255,0),3)\n",
    "    cv2.waitKey()\n",
    "    cv2.imshow('Alag Alag',orig_img)\n",
    "cv2.waitKey()\n",
    "cv2.drawContours(img,contours,-1,(0,255,0),3)\n",
    "cv2.imshow('Contours',img)\n",
    "cv2.waitKey()\n",
    "cv2.destroyAllWindows()\n"
   ],
   "metadata": {
    "collapsed": false,
    "pycharm": {
     "name": "#%%\n"
    }
   }
  },
  {
   "cell_type": "code",
   "execution_count": 2,
   "outputs": [],
   "source": [
    "\n"
   ],
   "metadata": {
    "collapsed": false,
    "pycharm": {
     "name": "#%%\n"
    }
   }
  }
 ],
 "metadata": {
  "kernelspec": {
   "display_name": "Python 2",
   "language": "python",
   "name": "python2"
  },
  "language_info": {
   "codemirror_mode": {
    "name": "ipython",
    "version": 2
   },
   "file_extension": ".py",
   "mimetype": "text/x-python",
   "name": "python",
   "nbconvert_exporter": "python",
   "pygments_lexer": "ipython2",
   "version": "2.7.6"
  }
 },
 "nbformat": 4,
 "nbformat_minor": 0
}