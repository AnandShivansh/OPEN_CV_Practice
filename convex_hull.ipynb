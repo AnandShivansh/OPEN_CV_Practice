{
 "cells": [
  {
   "cell_type": "code",
   "execution_count": 2,
   "metadata": {
    "collapsed": true
   },
   "outputs": [],
   "source": [
    "import cv2\n",
    "import numpy as np"
   ]
  },
  {
   "cell_type": "code",
   "execution_count": 4,
   "metadata": {
    "pycharm": {
     "name": "#%%\n"
    }
   },
   "outputs": [
    {
     "name": "stdout",
     "output_type": "stream",
     "text": [
      "10\n",
      "10\n",
      "10\n",
      "15\n",
      "15\n",
      "3\n",
      "3\n",
      "4\n",
      "4\n",
      "4\n",
      "4\n"
     ]
    }
   ],
   "source": [
    "img = cv2.imread('./images/someshapes.jpg')\n",
    "img_orig = img.copy()\n",
    "# cv2.imshow('Original',img)\n",
    "# cv2.waitKey()\n",
    "\n",
    "img_gray = cv2.cvtColor(img,cv2.COLOR_BGR2GRAY)\n",
    "# cv2.imshow('Gray',img_gray)\n",
    "# cv2.waitKey()\n",
    "\n",
    "# rt,thresh = cv2.threshold(img_gray,127,255,cv2.THRESH_BINARY_INV)\n",
    "# cv2.imshow('Thresh',thresh)\n",
    "# cv2.waitKey()\n",
    "img_canny = cv2.Canny(img_gray,50,200)\n",
    "# cv2.imshow('Canny',img_canny)\n",
    "# cv2.waitKey()\n",
    "\n",
    "contours,hierarchy = cv2.findContours(img_canny.copy(),cv2.RETR_LIST,cv2.CHAIN_APPROX_NONE)\n",
    "print (len(contours))\n",
    "# cv2.drawContours(img,contours,-1,(0,0,255),1)\n",
    "# cv2.imshow('C1',img)\n",
    "# cv2.waitKey()\n",
    "\n",
    "for c in contours:\n",
    "    (x,y,w,h) = cv2.boundingRect(c)\n",
    "    cv2.rectangle(img_orig,(x,y),(x+w,y+h),(0,0,255),2)\n",
    "    cv2.imshow('BRect',img_orig)\n",
    "cv2.waitKey()\n",
    "\n",
    "img_black = np.zeros(img.shape,np.uint8)\n",
    "img_cc = img_black.copy()\n",
    "for c in contours:\n",
    "    accuracy = 0.01*cv2.arcLength(c,True)\n",
    "    approx = cv2.approxPolyDP(c,accuracy,True)\n",
    "    print len(approx)\n",
    "    cv2.drawContours(img,[approx],0,(0,0,255),2)\n",
    "    cv2.imshow('PolyDp',img)\n",
    "    cv2.waitKey()\n",
    "for c in contours:\n",
    "    accuracy = 0.0000003*cv2.arcLength(c,True)\n",
    "    approx = cv2.approxPolyDP(c,accuracy,True)\n",
    "    cv2.drawContours(img_black,[approx],0,(255,255,255),2)\n",
    "    cv2.imshow('PolyDp',img_black)\n",
    "    cv2.waitKey()\n",
    "kernel = np.ones((5,5),np.uint8)\n",
    "img_dilate = cv2.dilate(img_black,kernel,iterations=2)\n",
    "cv2.imshow('Dilate',img_dilate)\n",
    "cv2.waitKey()\n",
    "img_erode = cv2.erode(img_dilate,kernel,iterations=3)\n",
    "# img_erode = cv2.erode(img_erode,kernel,iterations=1)\n",
    "img_erode = cv2.cvtColor(img_erode,cv2.COLOR_BGR2GRAY)\n",
    "cv2.imshow('Erode',img_erode)\n",
    "\n",
    "contours,hierarchy = cv2.findContours(img_erode,cv2.RETR_TREE,cv2.CHAIN_APPROX_NONE)\n",
    "\n",
    "for c in contours:\n",
    "    cv2.drawContours(img_cc,[c],-1,(0,255,255),1)\n",
    "    cv2.waitKey()\n",
    "    cv2.imshow('New',img_cc)\n",
    "# cv2.waitKey()\n",
    "# img_canny = cv2.Canny(img_erode,50,200)\n",
    "# cv2.imshow('Canny3',img_canny)\n",
    "# cv2.waitKey()\n",
    "# contours,hierarchy = cv2.findContours(thresh.copy(),cv2.RETR_LIST,cv2.CHAIN_APPROX_NONE)\n",
    "# print (len(contours))\n",
    "# cv2.drawContours(img,contours,-1,(0,0,255),1)\n",
    "# cv2.imshow('C2',img)\n",
    "# cv2.waitKey()\n",
    "cv2.destroyAllWindows()"
   ]
  },
  {
   "cell_type": "code",
   "execution_count": 5,
   "outputs": [],
   "source": [
    "img = cv2.imread('./images/hand.jpg')\n",
    "cv2.imshow('Original',img)\n",
    "cv2.waitKey()\n",
    "img_gray = cv2.cvtColor(img,cv2.COLOR_BGR2GRAY)\n",
    "ret,threshold = cv2.threshold(img_gray,170,255,0)\n",
    "contours,hierarchy = cv2.findContours(threshold.copy(),cv2.RETR_LIST,cv2.CHAIN_APPROX_NONE)\n",
    "n = len(contours)-1\n",
    "contours = sorted(contours,key=cv2.contourArea,reverse=False)[:n]\n",
    "for c in contours:\n",
    "    hull = cv2.convexHull(c)\n",
    "    cv2.drawContours(img,[hull],0,(0,255,0),2)\n",
    "    cv2.imshow('Convex hull',img)\n",
    "    # cv2.waitKey()\n",
    "cv2.waitKey()\n",
    "cv2.destroyAllWindows()"
   ],
   "metadata": {
    "collapsed": false,
    "pycharm": {
     "name": "#%%\n"
    }
   }
  },
  {
   "cell_type": "code",
   "execution_count": 5,
   "outputs": [],
   "source": [
    "\n",
    "\n"
   ],
   "metadata": {
    "collapsed": false,
    "pycharm": {
     "name": "#%%\n"
    }
   }
  }
 ],
 "metadata": {
  "kernelspec": {
   "display_name": "Python 2",
   "language": "python",
   "name": "python2"
  },
  "language_info": {
   "codemirror_mode": {
    "name": "ipython",
    "version": 2
   },
   "file_extension": ".py",
   "mimetype": "text/x-python",
   "name": "python",
   "nbconvert_exporter": "python",
   "pygments_lexer": "ipython2",
   "version": "2.7.17"
  }
 },
 "nbformat": 4,
 "nbformat_minor": 1
}