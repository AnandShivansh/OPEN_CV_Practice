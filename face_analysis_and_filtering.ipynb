{
 "cells": [
  {
   "cell_type": "code",
   "execution_count": 7,
   "metadata": {
    "collapsed": true
   },
   "outputs": [],
   "source": [
    "import cv2\n",
    "import dlib\n",
    "import numpy as np\n",
    "\n",
    "PREDICTOR_PATH = \"shape_predictor_68_face_landmarks.dat\"\n",
    "predictor = dlib.shape_predictor(PREDICTOR_PATH)\n",
    "detector = dlib.get_frontal_face_detector()\n",
    "\n",
    "class TooManyFaces(Exception):\n",
    "    pass\n",
    "\n",
    "class NoFaces(Exception):\n",
    "    pass\n",
    "\n",
    "def get_landmarks(img):\n",
    "    rects = detector(img,1)\n",
    "\n",
    "    if len(rects)>1:\n",
    "        raise TooManyFaces\n",
    "    if len(rects)==0:\n",
    "        raise NoFaces\n",
    "    return np.matrix([[p.x,p.y] for p in predictor(img,rects[0]).parts()])\n",
    "def annotate_landmarks(img,landmarks):\n",
    "    img=img.copy()\n",
    "    for idx,point in enumerate(landmarks):\n",
    "        pos=(point[0,0],point[0,1])\n",
    "        cv2.putText(img,str(idx),pos,fontFace=cv2.FONT_HERSHEY_SCRIPT_SIMPLEX,\n",
    "                    fontScale=0.4,color=(0,0,255))\n",
    "        cv2.circle(img,pos,3,color=(0,255,255))\n",
    "    return img\n",
    "image = cv2.imread('./images/obama.jpg')\n",
    "landmarks=get_landmarks(image)\n",
    "image_landmarked = annotate_landmarks(image,landmarks)\n",
    "cv2.imshow('LL',image_landmarked)\n",
    "cv2.waitKey()\n",
    "cv2.destroyAllWindows()"
   ]
  },
  {
   "cell_type": "code",
   "execution_count": null,
   "outputs": [],
   "source": [
    "\n"
   ],
   "metadata": {
    "collapsed": false,
    "pycharm": {
     "name": "#%%\n"
    }
   }
  }
 ],
 "metadata": {
  "kernelspec": {
   "display_name": "Python 2",
   "language": "python",
   "name": "python2"
  },
  "language_info": {
   "codemirror_mode": {
    "name": "ipython",
    "version": 2
   },
   "file_extension": ".py",
   "mimetype": "text/x-python",
   "name": "python",
   "nbconvert_exporter": "python",
   "pygments_lexer": "ipython2",
   "version": "2.7.6"
  }
 },
 "nbformat": 4,
 "nbformat_minor": 0
}