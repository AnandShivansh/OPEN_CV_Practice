{
 "cells": [
  {
   "cell_type": "code",
   "execution_count": 1,
   "metadata": {},
   "outputs": [],
   "source": [
    "import cv2\n",
    "import numpy as np\n",
    "from matplotlib import pyplot as plt"
   ]
  },
  {
   "cell_type": "code",
   "execution_count": 2,
   "metadata": {},
   "outputs": [],
   "source": [
    "img = cv2.imread('./images/input.jpg')\n",
    "cv2.imshow('Original',img)\n",
    "cv2.waitKey()\n",
    "cv2.destroyAllWindows()"
   ]
  },
  {
   "cell_type": "code",
   "execution_count": 3,
   "metadata": {},
   "outputs": [],
   "source": [
    "img_hsv = cv2.cvtColor(img,cv2.COLOR_BGR2HSV)\n",
    "cv2.imshow('HSV_Image',img_hsv)\n",
    "cv2.waitKey()\n",
    "cv2.destroyAllWindows()"
   ]
  },
  {
   "cell_type": "code",
   "execution_count": 4,
   "metadata": {},
   "outputs": [
    {
     "name": "stdout",
     "output_type": "stream",
     "text": [
      "[12 18 31]\n",
      "[  9 156  31]\n",
      "21\n"
     ]
    }
   ],
   "source": [
    "print(img[10,10])\n",
    "print(img_hsv[10,10])\n",
    "img_bw = cv2.cvtColor(img,cv2.COLOR_BGR2GRAY)\n",
    "cv2.imshow('BGR2GRAy',img_bw)\n",
    "cv2.waitKey()\n",
    "cv2.destroyAllWindows()\n",
    "print(img_bw[10,1])\n",
    "# img_bw2 = cv2.cvtColor(img_hsv,cv2.COLOR_HSV2GRAY)\n",
    "# cv2.imshow('HSV2GRAY',img_bw2)\n",
    "# cv2.waitKey()\n",
    "# cv2.destroyAllWindows()"
   ]
  },
  {
   "cell_type": "code",
   "execution_count": 5,
   "metadata": {},
   "outputs": [],
   "source": [
    "cv2.imshow('Hue Channel',img_hsv[:,:,0])\n",
    "cv2.waitKey()\n",
    "cv2.imshow('Saturation Channel',img_hsv[:,:,1])\n",
    "cv2.waitKey()\n",
    "cv2.imshow('Value Channel',img_hsv[:,:,2])\n",
    "cv2.waitKey()\n",
    "cv2.destroyAllWindows()"
   ]
  },
  {
   "cell_type": "code",
   "execution_count": 6,
   "metadata": {},
   "outputs": [
    {
     "name": "stdout",
     "output_type": "stream",
     "text": [
      "12 18 31\n"
     ]
    }
   ],
   "source": [
    "b,g,r = img[0,0]\n",
    "print b,g,r"
   ]
  },
  {
   "cell_type": "code",
   "execution_count": 7,
   "metadata": {},
   "outputs": [],
   "source": [
    "b,g,r = cv2.split(img)\n",
    "cv2.imshow('Blue',b)\n",
    "cv2.waitKey()\n",
    "cv2.imshow('Green',g)\n",
    "cv2.waitKey()\n",
    "cv2.imshow('Red',r)\n",
    "cv2.waitKey()\n",
    "cv2.destroyAllWindows()"
   ]
  },
  {
   "cell_type": "code",
   "execution_count": 8,
   "metadata": {},
   "outputs": [],
   "source": [
    "m1=cv2.merge([b,g,r])\n",
    "m2=cv2.merge([b,r,g])\n",
    "m3=cv2.merge([g,b,r])\n",
    "m4=cv2.merge([g,r,b])\n",
    "m5=cv2.merge([r,g,b])\n",
    "m6=cv2.merge([r-12,b,g])\n",
    "cv2.imshow('m1',m1)\n",
    "cv2.waitKey()\n",
    "cv2.imshow('m2',m2)\n",
    "cv2.waitKey()\n",
    "cv2.imshow('m3',m3)\n",
    "cv2.waitKey()\n",
    "cv2.imshow('m4',m4)\n",
    "cv2.waitKey()\n",
    "cv2.imshow('m5',m5)\n",
    "cv2.waitKey()\n",
    "cv2.imshow('m6',m6)\n",
    "cv2.waitKey()\n",
    "cv2.destroyAllWindows()"
   ]
  },
  {
   "cell_type": "code",
   "execution_count": 9,
   "metadata": {},
   "outputs": [],
   "source": [
    "zeros = np.zeros(img.shape[:2],dtype='uint8')\n",
    "cv2.imshow('Red',cv2.merge([zeros,zeros,r]))\n",
    "cv2.waitKey()\n",
    "cv2.imshow('Green',cv2.merge([zeros,g,zeros]))\n",
    "cv2.waitKey()\n",
    "cv2.imshow('Blue',cv2.merge([b,zeros,zeros]))\n",
    "cv2.waitKey()\n",
    "cv2.destroyAllWindows()"
   ]
  }
 ],
 "metadata": {
  "kernelspec": {
   "display_name": "Python 2",
   "language": "python",
   "name": "python2"
  },
  "language_info": {
   "codemirror_mode": {
    "name": "ipython",
    "version": 2
   },
   "file_extension": ".py",
   "mimetype": "text/x-python",
   "name": "python",
   "nbconvert_exporter": "python",
   "pygments_lexer": "ipython2",
   "version": "2.7.17"
  }
 },
 "nbformat": 4,
 "nbformat_minor": 2
}