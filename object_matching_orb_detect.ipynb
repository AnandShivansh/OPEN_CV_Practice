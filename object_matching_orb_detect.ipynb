{
 "cells": [
  {
   "cell_type": "code",
   "execution_count": 2,
   "metadata": {
    "collapsed": true
   },
   "outputs": [],
   "source": [
    "import cv2\n",
    "import numpy as np\n",
    "\n",
    "def ORB_detector(new_image,image_temp):\n",
    "    img1 = cv2.cvtColor(new_image,cv2.COLOR_BGR2GRAY)\n",
    "    orb = cv2.ORB_create(1000,1.2)\n",
    "    (k1,d1) = orb.detectAndCompute(img1,None)\n",
    "    (k2,d2) = orb.detectAndCompute(image_temp,None)\n",
    "    bf = cv2.BFMatcher_create(cv2.NORM_HAMMING,crossCheck=True)\n",
    "    matches = bf.match(d1,d2)\n",
    "    matches = sorted(matches,key=lambda val: val.distance)\n",
    "    return len(matches)\n",
    "cap = cv2.VideoCapture(0)\n",
    "image_temp = cv2.imread('./images/box_in_scene.png',0)\n",
    "# cv2.imshow('img_t',image_temp)\n",
    "while True:\n",
    "    ret,frame = cap.read()\n",
    "    # print(frame.shape)\n",
    "    h,w = frame.shape[:2]\n",
    "    tlx = w/3\n",
    "    tly = h/2 + h/4\n",
    "    brx = (w/3)*2\n",
    "    bry = h/2 - h/4\n",
    "    cv2.rectangle(frame,(tlx,tly),(brx,bry),255,3)\n",
    "    # print frame.shape\n",
    "    cropped = frame[bry:tly,tlx:brx]\n",
    "    frame=cv2.flip(frame,1)\n",
    "    matches = ORB_detector(cropped,image_temp)\n",
    "    outs = \"Matches : \"+str(matches)\n",
    "    cv2.putText(frame,outs,(50,450),cv2.FONT_HERSHEY_COMPLEX,2,(250,0,150),2)\n",
    "    thr = 250\n",
    "    if matches>thr:\n",
    "        cv2.rectangle(frame,(tlx,tly),(brx,bry),(0,255,0),3)\n",
    "        cv2.putText(frame,\"Found\",(50,50),cv2.FONT_HERSHEY_COMPLEX,2,(0,255,0),2)\n",
    "    cv2.imshow('ORB_detector',frame)\n",
    "    if cv2.waitKey(1)==13:\n",
    "        break\n",
    "cap.release()\n",
    "cv2.destroyAllWindows()"
   ]
  },
  {
   "cell_type": "code",
   "execution_count": null,
   "outputs": [],
   "source": [],
   "metadata": {
    "collapsed": false,
    "pycharm": {
     "name": "#%%\n"
    }
   }
  }
 ],
 "metadata": {
  "kernelspec": {
   "display_name": "Python 2",
   "language": "python",
   "name": "python2"
  },
  "language_info": {
   "codemirror_mode": {
    "name": "ipython",
    "version": 2
   },
   "file_extension": ".py",
   "mimetype": "text/x-python",
   "name": "python",
   "nbconvert_exporter": "python",
   "pygments_lexer": "ipython2",
   "version": "2.7.6"
  }
 },
 "nbformat": 4,
 "nbformat_minor": 0
}