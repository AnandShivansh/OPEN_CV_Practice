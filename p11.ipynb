{
 "cells": [
  {
   "cell_type": "code",
   "execution_count": 2,
   "metadata": {
    "collapsed": true
   },
   "outputs": [],
   "source": [
    "import cv2\n",
    "import numpy as np"
   ]
  },
  {
   "cell_type": "code",
   "execution_count": 3,
   "metadata": {
    "pycharm": {
     "name": "#%%\n"
    }
   },
   "outputs": [],
   "source": [
    "img = cv2.imread('./images/input.jpg')\n",
    "M = np.ones(img.shape,dtype='uint8')*175\n",
    "added = cv2.add(img,M)\n",
    "subtracted = cv2.subtract(img,M)\n",
    "cv2.imshow('Orig',img)\n",
    "cv2.waitKey()\n",
    "cv2.imshow('Bright',added)\n",
    "cv2.waitKey()\n",
    "cv2.imshow('Dull',subtracted)\n",
    "cv2.waitKey()\n",
    "cv2.destroyAllWindows()"
   ]
  },
  {
   "cell_type": "code",
   "execution_count": 6,
   "metadata": {
    "pycharm": {
     "name": "#%%\n"
    }
   },
   "outputs": [],
   "source": [
    "square = np.zeros((300,300),np.uint8)\n",
    "rect = cv2.rectangle(square,(50,50),(200,200),255,-2)\n",
    "cv2.imshow('Square',rect)\n",
    "cv2.waitKey()\n",
    "cv2.destroyAllWindows()"
   ]
  },
  {
   "cell_type": "code",
   "execution_count": null,
   "metadata": {
    "pycharm": {
     "name": "#%%\n"
    }
   },
   "outputs": [],
   "source": [
    "square = np.zeros((300,300),np.uint8)\n",
    "ellip = cv2.ellipse(square,(150,150),(150,150),30,0,180,255,-1)\n",
    "cv2.imshow('Ellips',ellip)\n",
    "cv2.waitKey()\n",
    "cv2.destroyAllWindows()\n",
    "\n",
    "\n"
   ]
  }
 ],
 "metadata": {
  "kernelspec": {
   "display_name": "Python 2",
   "language": "python",
   "name": "python2"
  },
  "language_info": {
   "codemirror_mode": {
    "name": "ipython",
    "version": 2
   },
   "file_extension": ".py",
   "mimetype": "text/x-python",
   "name": "python",
   "nbconvert_exporter": "python",
   "pygments_lexer": "ipython2",
   "version": "2.7.17"
  }
 },
 "nbformat": 4,
 "nbformat_minor": 1
}