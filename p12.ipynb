{
 "cells": [
  {
   "cell_type": "code",
   "execution_count": 2,
   "metadata": {
    "collapsed": true
   },
   "outputs": [],
   "source": [
    "import cv2\n",
    "import numpy as np"
   ]
  },
  {
   "cell_type": "code",
   "execution_count": 3,
   "metadata": {
    "pycharm": {
     "name": "#%%\n"
    }
   },
   "outputs": [],
   "source": [
    "square = np.zeros((300,300),np.uint8)\n",
    "rect = cv2.rectangle(square,(50,50),(200,200),255,-2)\n",
    "cv2.imshow('Square',rect)\n",
    "cv2.waitKey()\n",
    "cv2.destroyAllWindows()"
   ]
  },
  {
   "cell_type": "code",
   "execution_count": 4,
   "metadata": {
    "pycharm": {
     "name": "#%%\n"
    }
   },
   "outputs": [],
   "source": [
    "square = np.zeros((300,300),np.uint8)\n",
    "ellip = cv2.ellipse(square,(150,150),(150,150),30,0,180,255,-1)\n",
    "cv2.imshow('Ellips',ellip)\n",
    "cv2.waitKey()\n",
    "cv2.destroyAllWindows()"
   ]
  },
  {
   "cell_type": "code",
   "execution_count": 5,
   "metadata": {
    "pycharm": {
     "name": "#%%\n"
    }
   },
   "outputs": [],
   "source": [
    "img_and = cv2.bitwise_and(rect,ellip)\n",
    "cv2.imshow('and',img_and)\n",
    "cv2.waitKey()\n",
    "img_or = cv2.bitwise_or(rect,ellip)\n",
    "cv2.imshow('or',img_or)\n",
    "cv2.waitKey()\n",
    "img_xor = cv2.bitwise_xor(rect,ellip)\n",
    "cv2.imshow('xor',img_xor)\n",
    "cv2.waitKey()\n",
    "img_not = cv2.bitwise_not(rect)\n",
    "cv2.imshow('not',img_not)\n",
    "cv2.waitKey()\n",
    "cv2.destroyAllWindows()"
   ]
  }
 ],
 "metadata": {
  "kernelspec": {
   "display_name": "Python 2",
   "language": "python",
   "name": "python2"
  },
  "language_info": {
   "codemirror_mode": {
    "name": "ipython",
    "version": 2
   },
   "file_extension": ".py",
   "mimetype": "text/x-python",
   "name": "python",
   "nbconvert_exporter": "python",
   "pygments_lexer": "ipython2",
   "version": "2.7.17"
  }
 },
 "nbformat": 4,
 "nbformat_minor": 1
}