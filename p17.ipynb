{
 "cells": [
  {
   "cell_type": "code",
   "execution_count": 1,
   "metadata": {
    "collapsed": true
   },
   "outputs": [],
   "source": [
    "import cv2\n",
    "import numpy as np"
   ]
  },
  {
   "cell_type": "code",
   "execution_count": 19,
   "outputs": [],
   "source": [
    "img = cv2.imread('./images/input.jpg',0)\n",
    "cv2.imshow('Original',img)\n",
    "cv2.waitKey()\n",
    "# h,w = img.shape\n",
    "\n",
    "sobel_x=cv2.Sobel(img,cv2.CV_64F,0,1,ksize=5)\n",
    "sobel_y=cv2.Sobel(img,cv2.CV_64F,1,0,ksize=5)\n",
    "cv2.imshow('Sobel_x',sobel_x)\n",
    "cv2.waitKey()\n",
    "cv2.imshow('Sobel_Y',sobel_y)\n",
    "cv2.waitKey()\n",
    "\n",
    "sobel_or=cv2.bitwise_or(sobel_y,sobel_x)\n",
    "cv2.imshow('Sobel_or',sobel_or)\n",
    "cv2.waitKey()\n",
    "\n",
    "lap = cv2.Laplacian(img,cv2.CV_64F)\n",
    "cv2.imshow('Laplacian',lap)\n",
    "cv2.waitKey()\n",
    "\n",
    "cany = cv2.Canny(img,20,150)\n",
    "cv2.imshow('Canny',cany)\n",
    "cv2.waitKey()\n",
    "cv2.destroyAllWindows()"
   ],
   "metadata": {
    "collapsed": false,
    "pycharm": {
     "name": "#%%\n"
    }
   }
  },
  {
   "cell_type": "code",
   "execution_count": null,
   "outputs": [],
   "source": [
    "\n"
   ],
   "metadata": {
    "collapsed": false,
    "pycharm": {
     "name": "#%%\n"
    }
   }
  }
 ],
 "metadata": {
  "kernelspec": {
   "display_name": "Python 2",
   "language": "python",
   "name": "python2"
  },
  "language_info": {
   "codemirror_mode": {
    "name": "ipython",
    "version": 2
   },
   "file_extension": ".py",
   "mimetype": "text/x-python",
   "name": "python",
   "nbconvert_exporter": "python",
   "pygments_lexer": "ipython2",
   "version": "2.7.6"
  }
 },
 "nbformat": 4,
 "nbformat_minor": 0
}