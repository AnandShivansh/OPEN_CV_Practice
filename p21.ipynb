{
 "cells": [
  {
   "cell_type": "code",
   "execution_count": 3,
   "metadata": {
    "collapsed": true
   },
   "outputs": [],
   "source": [
    "import cv2\n",
    "import numpy as np"
   ]
  },
  {
   "cell_type": "code",
   "execution_count": 27,
   "outputs": [
    {
     "name": "stdout",
     "output_type": "stream",
     "text": [
      "('no of countours', 38)\n",
      "('Hierarchy', array([[[ 1, -1, -1, -1],\n",
      "        [ 3,  0,  2, -1],\n",
      "        [-1, -1, -1,  1],\n",
      "        [ 4,  1, -1, -1],\n",
      "        [ 5,  3, -1, -1],\n",
      "        [ 6,  4, -1, -1],\n",
      "        [ 7,  5, -1, -1],\n",
      "        [ 8,  6, -1, -1],\n",
      "        [ 9,  7, -1, -1],\n",
      "        [10,  8, -1, -1],\n",
      "        [11,  9, -1, -1],\n",
      "        [12, 10, -1, -1],\n",
      "        [13, 11, -1, -1],\n",
      "        [15, 12, 14, -1],\n",
      "        [-1, -1, -1, 13],\n",
      "        [16, 13, -1, -1],\n",
      "        [17, 15, -1, -1],\n",
      "        [18, 16, -1, -1],\n",
      "        [21, 17, 19, -1],\n",
      "        [-1, -1, 20, 18],\n",
      "        [-1, -1, -1, 19],\n",
      "        [22, 18, -1, -1],\n",
      "        [23, 21, -1, -1],\n",
      "        [24, 22, -1, -1],\n",
      "        [25, 23, -1, -1],\n",
      "        [26, 24, -1, -1],\n",
      "        [27, 25, -1, -1],\n",
      "        [28, 26, -1, -1],\n",
      "        [29, 27, -1, -1],\n",
      "        [30, 28, -1, -1],\n",
      "        [31, 29, -1, -1],\n",
      "        [32, 30, -1, -1],\n",
      "        [33, 31, -1, -1],\n",
      "        [34, 32, -1, -1],\n",
      "        [35, 33, -1, -1],\n",
      "        [36, 34, -1, -1],\n",
      "        [37, 35, -1, -1],\n",
      "        [-1, 36, -1, -1]]], dtype=int32))\n"
     ]
    }
   ],
   "source": [
    "img = cv2.imread('./images/donut3.png')\n",
    "# img = cv2.imread('./images/shapes_donut.jpg')\n",
    "# img = cv2.imread('./images/bunchofshapes.jpg')\n",
    "cv2.imshow('original image',img)\n",
    "cv2.waitKey()\n",
    "\n",
    "img_black = np.zeros(img.shape)\n",
    "\n",
    "img_orig = img.copy()\n",
    "img_gray = cv2.cvtColor(img,cv2.COLOR_BGR2GRAY)\n",
    "img_canny = cv2.Canny(img_gray,50,200)\n",
    "cv2.imshow('Canny',img_canny)\n",
    "cv2.waitKey()\n",
    "\n",
    "contours,hierarchy = cv2.findContours(img_canny.copy(),cv2.RETR_TREE,cv2.CHAIN_APPROX_NONE)\n",
    "print ('no of countours',len(contours))\n",
    "print ('Hierarchy',hierarchy)\n",
    "cv2.drawContours(img_black,contours,-1,(0,255,0),3)\n",
    "cv2.imshow('Contour over blank',img_black)\n",
    "cv2.waitKey()\n",
    "\n",
    "cv2.drawContours(img,contours,-1,(0,255,0),3)\n",
    "cv2.imshow('Contours over image',img)\n",
    "cv2.waitKey()\n",
    "cv2.imshow('Oriz',img_orig)\n",
    "cv2.waitKey()\n",
    "cv2.destroyAllWindows()"
   ],
   "metadata": {
    "collapsed": false,
    "pycharm": {
     "name": "#%%\n"
    }
   }
  },
  {
   "cell_type": "code",
   "execution_count": 5,
   "outputs": [
    {
     "name": "stdout",
     "output_type": "stream",
     "text": [
      "('Hierarchy', array([[[ 8, -1,  1, -1],\n",
      "        [-1, -1,  2,  0],\n",
      "        [-1, -1,  3,  1],\n",
      "        [-1, -1,  4,  2],\n",
      "        [-1, -1,  5,  3],\n",
      "        [-1, -1,  6,  4],\n",
      "        [-1, -1,  7,  5],\n",
      "        [-1, -1, -1,  6],\n",
      "        [16,  0,  9, -1],\n",
      "        [-1, -1, 10,  8],\n",
      "        [-1, -1, 11,  9],\n",
      "        [-1, -1, 12, 10],\n",
      "        [-1, -1, 13, 11],\n",
      "        [-1, -1, 14, 12],\n",
      "        [-1, -1, 15, 13],\n",
      "        [-1, -1, -1, 14],\n",
      "        [24,  8, 17, -1],\n",
      "        [-1, -1, 18, 16],\n",
      "        [-1, -1, 19, 17],\n",
      "        [-1, -1, 20, 18],\n",
      "        [-1, -1, 21, 19],\n",
      "        [-1, -1, 22, 20],\n",
      "        [-1, -1, 23, 21],\n",
      "        [-1, -1, -1, 22],\n",
      "        [-1, 16, -1, -1]]], dtype=int32))\n",
      "('Contour area before aorting', [2613.5, 2562.5, 2033.5, 2001.5, 275.0, 265.0, 111.0, 100.0, 7236.0, 7152.0, 5643.0, 5566.0, 754.0, 726.0, 313.5, 296.5, 25011.0, 24854.0, 22031.5, 21884.5, 6093.5, 6017.5, 4685.0, 4619.0, 0.0])\n",
      "('Contour area after sorting', [25011.0, 24854.0, 22031.5, 21884.5, 7236.0, 7152.0, 6093.5, 6017.5, 5643.0, 5566.0, 4685.0, 4619.0, 2613.5, 2562.5, 2033.5, 2001.5, 754.0, 726.0, 313.5, 296.5, 275.0, 265.0, 111.0, 100.0, 0.0])\n"
     ]
    }
   ],
   "source": [
    "# img = cv2.imread('./images/bunchofshapes.jpg')\n",
    "# img = cv2.imread('./images/shapes_donut.jpg')\n",
    "img = cv2.imread('./images/donut1.png')\n",
    "\n",
    "def get_contour_area(contours):\n",
    "    all_area=[]\n",
    "    for x in contours:\n",
    "        area = cv2.contourArea(x);\n",
    "        all_area.append(area)\n",
    "    return all_area\n",
    "\n",
    "img_orig = img.copy()\n",
    "\n",
    "print ('Hierarchy',hierarchy)\n",
    "print ('Contour area before aorting',get_contour_area(contours))\n",
    "\n",
    "sorted_contours = sorted(contours,key=cv2.contourArea,reverse=True)\n",
    "print ('Contour area after sorting',get_contour_area(sorted_contours))\n",
    "\n",
    "for c in sorted_contours:\n",
    "    cv2.drawContours(img,[c],-1,(0,255,0),3)\n",
    "    cv2.waitKey()\n",
    "    cv2.imshow('Contours sorted by area',img)\n",
    "cv2.waitKey()\n",
    "cv2.destroyAllWindows()"
   ],
   "metadata": {
    "collapsed": false,
    "pycharm": {
     "name": "#%%\n"
    }
   }
  },
  {
   "cell_type": "code",
   "execution_count": 6,
   "outputs": [
    {
     "ename": "ZeroDivisionError",
     "evalue": "float division by zero",
     "output_type": "error",
     "traceback": [
      "\u001B[0;31m\u001B[0m",
      "\u001B[0;31mZeroDivisionError\u001B[0mTraceback (most recent call last)",
      "\u001B[0;32m<ipython-input-6-041a6068162e>\u001B[0m in \u001B[0;36m<module>\u001B[0;34m()\u001B[0m\n\u001B[1;32m     15\u001B[0m \u001B[0;34m\u001B[0m\u001B[0m\n\u001B[1;32m     16\u001B[0m \u001B[0;32mfor\u001B[0m \u001B[0mc\u001B[0m \u001B[0;32min\u001B[0m \u001B[0mcontours\u001B[0m\u001B[0;34m:\u001B[0m\u001B[0;34m\u001B[0m\u001B[0m\n\u001B[0;32m---> 17\u001B[0;31m     \u001B[0mlabel_contour_center\u001B[0m\u001B[0;34m(\u001B[0m\u001B[0mimg\u001B[0m\u001B[0;34m,\u001B[0m\u001B[0mc\u001B[0m\u001B[0;34m)\u001B[0m\u001B[0;34m\u001B[0m\u001B[0m\n\u001B[0m\u001B[1;32m     18\u001B[0m \u001B[0mcv2\u001B[0m\u001B[0;34m.\u001B[0m\u001B[0mimshow\u001B[0m\u001B[0;34m(\u001B[0m\u001B[0;34m'Centers'\u001B[0m\u001B[0;34m,\u001B[0m\u001B[0mimg\u001B[0m\u001B[0;34m)\u001B[0m\u001B[0;34m\u001B[0m\u001B[0m\n\u001B[1;32m     19\u001B[0m \u001B[0mcv2\u001B[0m\u001B[0;34m.\u001B[0m\u001B[0mwaitKey\u001B[0m\u001B[0;34m(\u001B[0m\u001B[0;34m)\u001B[0m\u001B[0;34m\u001B[0m\u001B[0m\n",
      "\u001B[0;32m<ipython-input-6-041a6068162e>\u001B[0m in \u001B[0;36mlabel_contour_center\u001B[0;34m(img, c)\u001B[0m\n\u001B[1;32m      6\u001B[0m \u001B[0;32mdef\u001B[0m \u001B[0mlabel_contour_center\u001B[0m\u001B[0;34m(\u001B[0m\u001B[0mimg\u001B[0m\u001B[0;34m,\u001B[0m\u001B[0mc\u001B[0m\u001B[0;34m)\u001B[0m\u001B[0;34m:\u001B[0m\u001B[0;34m\u001B[0m\u001B[0m\n\u001B[1;32m      7\u001B[0m     \u001B[0mM\u001B[0m \u001B[0;34m=\u001B[0m \u001B[0mcv2\u001B[0m\u001B[0;34m.\u001B[0m\u001B[0mmoments\u001B[0m\u001B[0;34m(\u001B[0m\u001B[0mc\u001B[0m\u001B[0;34m)\u001B[0m\u001B[0;34m\u001B[0m\u001B[0m\n\u001B[0;32m----> 8\u001B[0;31m     \u001B[0mcx\u001B[0m \u001B[0;34m=\u001B[0m \u001B[0mint\u001B[0m\u001B[0;34m(\u001B[0m\u001B[0mM\u001B[0m\u001B[0;34m[\u001B[0m\u001B[0;34m'm10'\u001B[0m\u001B[0;34m]\u001B[0m\u001B[0;34m/\u001B[0m\u001B[0mM\u001B[0m\u001B[0;34m[\u001B[0m\u001B[0;34m'm00'\u001B[0m\u001B[0;34m]\u001B[0m\u001B[0;34m)\u001B[0m\u001B[0;34m\u001B[0m\u001B[0m\n\u001B[0m\u001B[1;32m      9\u001B[0m     \u001B[0mcy\u001B[0m \u001B[0;34m=\u001B[0m \u001B[0mint\u001B[0m\u001B[0;34m(\u001B[0m\u001B[0mM\u001B[0m\u001B[0;34m[\u001B[0m\u001B[0;34m'm01'\u001B[0m\u001B[0;34m]\u001B[0m\u001B[0;34m/\u001B[0m\u001B[0mM\u001B[0m\u001B[0;34m[\u001B[0m\u001B[0;34m'm00'\u001B[0m\u001B[0;34m]\u001B[0m\u001B[0;34m)\u001B[0m\u001B[0;34m\u001B[0m\u001B[0m\n\u001B[1;32m     10\u001B[0m     \u001B[0mcv2\u001B[0m\u001B[0;34m.\u001B[0m\u001B[0mcircle\u001B[0m\u001B[0;34m(\u001B[0m\u001B[0mimg\u001B[0m\u001B[0;34m,\u001B[0m\u001B[0;34m(\u001B[0m\u001B[0mcx\u001B[0m\u001B[0;34m,\u001B[0m\u001B[0mcy\u001B[0m\u001B[0;34m)\u001B[0m\u001B[0;34m,\u001B[0m\u001B[0;36m10\u001B[0m\u001B[0;34m,\u001B[0m\u001B[0;34m(\u001B[0m\u001B[0;36m0\u001B[0m\u001B[0;34m,\u001B[0m\u001B[0;36m255\u001B[0m\u001B[0;34m,\u001B[0m\u001B[0;36m0\u001B[0m\u001B[0;34m)\u001B[0m\u001B[0;34m,\u001B[0m\u001B[0;34m-\u001B[0m\u001B[0;36m1\u001B[0m\u001B[0;34m)\u001B[0m\u001B[0;34m\u001B[0m\u001B[0m\n",
      "\u001B[0;31mZeroDivisionError\u001B[0m: float division by zero"
     ]
    }
   ],
   "source": [
    "def x_chord_contour(contours):\n",
    "    if cv2.contourArea(contours)>10:\n",
    "        M = cv2.moments(contours)\n",
    "        return (int(M['m10']/M['m00']))\n",
    "def label_contour_center(img,c):\n",
    "    M = cv2.moments(c)\n",
    "    cx = int(M['m10']/M['m00'])\n",
    "    cy = int(M['m01']/M['m00'])\n",
    "    cv2.circle(img,(cx,cy),10,(0,255,0),-1)\n",
    "    # return img\n",
    "# img = cv2.imread('./images/shapes_donut.jpg')\n",
    "img = cv2.imread('./images/donut1.png')\n",
    "img_orig = img.copy()\n",
    "\n",
    "for c in contours:\n",
    "    label_contour_center(img,c)\n",
    "cv2.imshow('Centers',img)\n",
    "cv2.waitKey()\n",
    "\n",
    "contours_l_to_r = sorted(contours,key=x_chord_contour,reverse=False)\n",
    "\n",
    "for (i,c) in enumerate(contours):\n",
    "    cv2.drawContours(img_orig,[c],-1,(0,255,0),3)\n",
    "    M = cv2.moments(c)\n",
    "    cx = int(M['m10']/M['m00'])\n",
    "    cy = int(M['m01']/M['m00'])\n",
    "    cv2.putText(img_orig,str(i+1),(cx,cy),cv2.FONT_HERSHEY_SIMPLEX,1,(0,0,255),2)\n",
    "    cv2.imshow('L_to_r contours',img_orig)\n",
    "    cv2.waitKey()\n",
    "    (x,y,w,h) = cv2.boundingRect(c)\n",
    "    cropped_contour = img_orig[y:y+h,x:x+w]\n",
    "    img_name = './images/output_shape_number_'+str(i+1)+'.jpg'\n",
    "    cv2.imwrite(img_name,cropped_contour)\n",
    "    print img_name\n",
    "cv2.destroyAllWindows()"
   ],
   "metadata": {
    "collapsed": false,
    "pycharm": {
     "name": "#%%\n"
    }
   }
  },
  {
   "cell_type": "code",
   "execution_count": 47,
   "outputs": [
    {
     "name": "stdout",
     "output_type": "stream",
     "text": [
      "('contours length', 12)\n",
      "('x ', 0)\n",
      "('a1 ', 1778.0)\n",
      "('a2 ', 1738.0)\n",
      "('x ', 4)\n",
      "('a1 ', 5837.5)\n",
      "('a2 ', 5771.5)\n",
      "('x ', 8)\n",
      "('a1 ', 22342.0)\n",
      "('a2 ', 22210.0)\n",
      "[[[ 4 -1  2 -1]\n",
      "  [-1 -1  2  0]\n",
      "  [-1 -1  3  1]\n",
      "  [-1 -1 -1  2]\n",
      "  [ 8  0  6 -1]\n",
      "  [-1 -1  6  4]\n",
      "  [-1 -1  7  5]\n",
      "  [-1 -1 -1  6]\n",
      "  [-1  4 10 -1]\n",
      "  [-1 -1 10  8]\n",
      "  [-1 -1 11  9]\n",
      "  [-1 -1 -1 10]]]\n",
      "[[4, -1, 2, -1], [8, 0, 6, -1], [-1, 4, 10, -1]]\n",
      "(1778.0, ' ', 351.5)\n",
      "(5837.5, ' ', 664.5)\n",
      "(22342.0, ' ', 5865.5)\n"
     ]
    }
   ],
   "source": [
    "import cv2\n",
    "import numpy as np\n",
    "# img = cv2.imread('./images/shapes_donut.jpg')\n",
    "img = cv2.imread('./images/donut1.png')\n",
    "cv2.imshow('Original',img)\n",
    "cv2.waitKey()\n",
    "img_gray = cv2.cvtColor(img,cv2.COLOR_BGR2GRAY)\n",
    "cv2.imshow('gray',img_gray)\n",
    "cv2.waitKey()\n",
    "kernel = np.ones((5,5),np.uint8)\n",
    "img_gray = cv2.dilate(img_gray,kernel,iterations=2)\n",
    "# img_gray = cv2.dilate(img_gray,kernel,iterations=1)\n",
    "img_orig = img.copy()\n",
    "cv2.imshow('gray erode',img_gray)\n",
    "cv2.waitKey()\n",
    "img_canny = cv2.Canny(img_gray,50,200)\n",
    "cv2.imshow('Canny',img_canny)\n",
    "cv2.waitKey()\n",
    "contours,hierarchy = cv2.findContours(img_canny.copy(),cv2.RETR_TREE,cv2.CHAIN_APPROX_NONE)\n",
    "print('contours length',len(contours))\n",
    "# print hierarchy\n",
    "imgg=img.copy()\n",
    "cv2.drawContours(imgg,contours,-1,(0,255,0),2)\n",
    "cv2.imshow('image with contours',imgg)\n",
    "cv2.waitKey()\n",
    "# print contours\n",
    "new_contours=[]\n",
    "new_hierarchy=[]\n",
    "x=0\n",
    "while x!=-1:\n",
    "    print('x ',x)\n",
    "    a1=cv2.contourArea(contours[x])\n",
    "    print('a1 ',a1)\n",
    "    c1=hierarchy[0][x][2]\n",
    "    a2=0;\n",
    "    if c1!=-1:\n",
    "        a2=cv2.contourArea(contours[c1])\n",
    "        print('a2 ',a2)\n",
    "    # if (a1-a2)<=20:\n",
    "    hierarchy[0][x][2]=hierarchy[0][c1][2]\n",
    "# print(a1,\" \",a2)\n",
    "    new_contours.append(contours[x])\n",
    "    new_hierarchy.append(hierarchy[0][x].tolist())\n",
    "    x=hierarchy[0][x][0]\n",
    "# print new_contours\n",
    "print hierarchy\n",
    "print new_hierarchy\n",
    "# newh = list()\n",
    "# newh.append(new_hierarchy)\n",
    "# print newh[0]\n",
    "# cv2.drawContours(img,new_contours,-1,(0,255,0),2)\n",
    "# cv2.imshow('image with contours',img)\n",
    "# cv2.waitKey()\n",
    "def sortalgo(ch):\n",
    "    c,h=ch\n",
    "    a1=cv2.contourArea(c)\n",
    "    a2=0\n",
    "    if h[2]!=-1:\n",
    "        a2=cv2.contourArea(contours[h[2]])\n",
    "    # print (a1-a2)\n",
    "    print (a1,\" \",a2)\n",
    "    return a1-a2\n",
    "sc = [x for x,_ in sorted(zip(new_contours,new_hierarchy),key=sortalgo,reverse=False)]\n",
    "#     cv2.waitKey()\n",
    "for (i,c) in enumerate(sc):\n",
    "    cv2.drawContours(img,[c],-1,(0,255,0),3)\n",
    "    if new_hierarchy[i][2]!=-1:\n",
    "        cv2.drawContours(img,[contours[new_hierarchy[i][2]]],-1,(0,255,0),3)\n",
    "    cv2.waitKey()\n",
    "    cv2.imshow('Contours sorted by area',img)\n",
    "cv2.waitKey()\n",
    "cv2.destroyAllWindows()"
   ],
   "metadata": {
    "collapsed": false,
    "pycharm": {
     "name": "#%%\n"
    }
   }
  },
  {
   "cell_type": "code",
   "execution_count": 24,
   "outputs": [],
   "source": [
    "\n"
   ],
   "metadata": {
    "collapsed": false,
    "pycharm": {
     "name": "#%%\n"
    }
   }
  }
 ],
 "metadata": {
  "kernelspec": {
   "display_name": "Python 2",
   "language": "python",
   "name": "python2"
  },
  "language_info": {
   "codemirror_mode": {
    "name": "ipython",
    "version": 2
   },
   "file_extension": ".py",
   "mimetype": "text/x-python",
   "name": "python",
   "nbconvert_exporter": "python",
   "pygments_lexer": "ipython2",
   "version": "2.7.6"
  }
 },
 "nbformat": 4,
 "nbformat_minor": 0
}