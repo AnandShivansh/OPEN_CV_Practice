{
 "cells": [
  {
   "cell_type": "code",
   "execution_count": 1,
   "metadata": {
    "collapsed": true
   },
   "outputs": [
    {
     "name": "stdout",
     "output_type": "stream",
     "text": [
      "4\n",
      "0.168186051222\n",
      "0.199469102562\n",
      "0.189497606273\n",
      "0.111010582763\n"
     ]
    }
   ],
   "source": [
    "\n",
    "import cv2\n",
    "import numpy as np\n",
    "\n",
    "template = cv2.imread('./images/4star.jpg')\n",
    "template_gray = cv2.cvtColor(template,cv2.COLOR_BGR2GRAY)\n",
    "cv2.imshow('Template to match',template)\n",
    "cv2.waitKey()\n",
    "\n",
    "target = cv2.imread('./images/shapestomatch.jpg')\n",
    "target_gray = cv2.cvtColor(target,cv2.COLOR_BGR2GRAY)\n",
    "cv2.imshow('Set of images',target)\n",
    "cv2.waitKey()\n",
    "\n",
    "ret,thresh1 = cv2.threshold(template_gray,127,255,0)\n",
    "ret,thresh2 = cv2.threshold(target_gray,127,255,0)\n",
    "contours,hierarchy = cv2.findContours(thresh1,cv2.RETR_CCOMP,cv2.CHAIN_APPROX_SIMPLE)\n",
    "contours = sorted(contours,key=cv2.contourArea,reverse=True)\n",
    "template_contour = contours[1]\n",
    "\n",
    "contours,hierarchy = cv2.findContours(thresh2,cv2.RETR_CCOMP,cv2.CHAIN_APPROX_SIMPLE)\n",
    "print len(contours)\n",
    "closest_contour = []\n",
    "# closest\n",
    "mini = 100\n",
    "for c in contours:\n",
    "    match = cv2.matchShapes(template_contour,c,1,0.0)\n",
    "    print match\n",
    "    if match<mini:\n",
    "        mini=match\n",
    "        closest_contour = c\n",
    "# print closest_contour\n",
    "cv2.drawContours(target,[closest_contour],-1,(0,255,0),2)\n",
    "cv2.imshow('Closest Match',target)\n",
    "cv2.waitKey()\n",
    "cv2.destroyAllWindows()"
   ]
  },
  {
   "cell_type": "code",
   "execution_count": null,
   "outputs": [],
   "source": [],
   "metadata": {
    "collapsed": false,
    "pycharm": {
     "name": "#%%\n",
     "is_executing": true
    }
   }
  },
  {
   "cell_type": "code",
   "execution_count": null,
   "outputs": [],
   "source": [
    "\n"
   ],
   "metadata": {
    "collapsed": false,
    "pycharm": {
     "name": "#%%\n"
    }
   }
  }
 ],
 "metadata": {
  "kernelspec": {
   "display_name": "Python 2",
   "language": "python",
   "name": "python2"
  },
  "language_info": {
   "codemirror_mode": {
    "name": "ipython",
    "version": 2
   },
   "file_extension": ".py",
   "mimetype": "text/x-python",
   "name": "python",
   "nbconvert_exporter": "python",
   "pygments_lexer": "ipython2",
   "version": "2.7.6"
  }
 },
 "nbformat": 4,
 "nbformat_minor": 0
}