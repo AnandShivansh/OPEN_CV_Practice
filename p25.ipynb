{
 "cells": [
  {
   "cell_type": "code",
   "execution_count": 1,
   "metadata": {
    "collapsed": true,
    "pycharm": {
     "name": "#%%\n"
    }
   },
   "outputs": [],
   "source": [
    "import cv2\n",
    "import numpy as np\n",
    "\n",
    "img = cv2.imread('./images/someshapes.jpg')\n",
    "img_gray = cv2.cvtColor(img,cv2.COLOR_BGR2GRAY)\n",
    "cv2.imshow('Identifying shapes',img)\n",
    "cv2.waitKey()\n",
    "# cv2.destroyAllWindows()\n",
    "\n",
    "ret,thresh = cv2.threshold(img_gray,127,255,1)\n",
    "# img_canny = cv2.Canny(img_gray,50,200)\n",
    "contours,hierarchy = cv2.findContours(thresh,cv2.RETR_EXTERNAL,cv2.CHAIN_APPROX_NONE)\n",
    "for c in contours:\n",
    "    approx = cv2.approxPolyDP(c,0.01*cv2.arcLength(c,True),True)\n",
    "    sides = len(approx)\n",
    "\n",
    "    if sides==3:\n",
    "        name = 'Triangle'\n",
    "        cv2.drawContours(img,[c],0,(0,255,0),-1)\n",
    "        M = cv2.moments(c)\n",
    "        cx = int(M['m10']/M['m00'])\n",
    "        cy = int(M['m01']/M['m00'])\n",
    "        cv2.putText(img,name,(cx-50,cy),cv2.FONT_HERSHEY_SIMPLEX,1,(0,0,0),1)\n",
    "    elif sides==4:\n",
    "        x,y,w,h = cv2.boundingRect(c)\n",
    "        M = cv2.moments(c)\n",
    "        cx = int(M['m10']/M['m00'])\n",
    "        cy = int(M['m01']/M['m00'])\n",
    "\n",
    "        if abs(w-h)<=3:\n",
    "            name = 'Square'\n",
    "            cv2.drawContours(img,[c],0,(0,125,255),-1)\n",
    "            cv2.putText(img,name,(cx-50,cy),cv2.FONT_HERSHEY_SIMPLEX,1,(0,0,0),1)\n",
    "        else:\n",
    "            name = 'Rectangle'\n",
    "            cv2.drawContours(img,[c],0,(0,0,255),-1)\n",
    "            cv2.putText(img,name,(cx-50,cy),cv2.FONT_HERSHEY_SIMPLEX,1,(0,0,0),1)\n",
    "    elif sides==10:\n",
    "        name = 'Star'\n",
    "        M = cv2.moments(c)\n",
    "        cx = int(M['m10']/M['m00'])\n",
    "        cy = int(M['m01']/M['m00'])\n",
    "        cv2.drawContours(img,[c],0,(255,255,0),-1)\n",
    "        cv2.putText(img,name,(cx-50,cy),cv2.FONT_HERSHEY_SIMPLEX,1,(0,0,0),1)\n",
    "    elif sides>=15:\n",
    "        name = 'Circle'\n",
    "        M = cv2.moments(c)\n",
    "        cx = int(M['m10']/M['m00'])\n",
    "        cy = int(M['m01']/M['m00'])\n",
    "        cv2.drawContours(img,[c],0,(0,255,255),-1)\n",
    "        cv2.putText(img,name,(cx-50,cy),cv2.FONT_HERSHEY_SIMPLEX,1,(0,0,0),1)\n",
    "cv2.imshow('Identifying shapes',img)\n",
    "cv2.waitKey()\n",
    "cv2.destroyAllWindows()"
   ]
  },
  {
   "cell_type": "code",
   "execution_count": 5,
   "outputs": [],
   "source": [],
   "metadata": {
    "collapsed": false,
    "pycharm": {
     "name": "#%%\n"
    }
   }
  },
  {
   "cell_type": "code",
   "execution_count": null,
   "outputs": [],
   "source": [
    "\n"
   ],
   "metadata": {
    "collapsed": false,
    "pycharm": {
     "name": "#%%\n"
    }
   }
  }
 ],
 "metadata": {
  "kernelspec": {
   "display_name": "Python 2",
   "language": "python",
   "name": "python2"
  },
  "language_info": {
   "codemirror_mode": {
    "name": "ipython",
    "version": 2
   },
   "file_extension": ".py",
   "mimetype": "text/x-python",
   "name": "python",
   "nbconvert_exporter": "python",
   "pygments_lexer": "ipython2",
   "version": "2.7.6"
  }
 },
 "nbformat": 4,
 "nbformat_minor": 0
}