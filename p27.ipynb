{
 "cells": [
  {
   "cell_type": "code",
   "execution_count": 24,
   "metadata": {
    "pycharm": {
     "name": "#%%\n"
    }
   },
   "outputs": [],
   "source": [
    "import cv2\n",
    "import numpy as np\n",
    "\n",
    "img = cv2.imread('./images/bottlecaps.jpg')\n",
    "cv2.imshow('Original',img)\n",
    "cv2.waitKey()\n",
    "\n",
    "img_gray = cv2.cvtColor(img,cv2.COLOR_BGR2GRAY)\n",
    "cv2.imshow('Gray',img_gray)\n",
    "cv2.waitKey()\n",
    "img_blur = cv2.medianBlur(img_gray,5)\n",
    "cv2.imshow('Blur',img_blur)\n",
    "cv2.waitKey()\n",
    "circles = cv2.HoughCircles(img_blur,cv2.HOUGH_GRADIENT,1,20,param1=50,param2=30,minRadius=35,maxRadius=50)\n",
    "img_canny = cv2.Canny(img_gray,100,190,apertureSize=3)\n",
    "cv2.imshow('Canny',img_canny)\n",
    "cv2.waitKey()\n",
    "\n",
    "circles = np.uint16(np.around(circles))\n",
    "for i in circles[0,:]:\n",
    "    cv2.circle(img,(i[0],i[1]),i[2],(255,0,0),2)\n",
    "    cv2.circle(img,(i[0],i[1]),2,(0,255,0),2)\n",
    "\n",
    "cv2.imshow('Circles',img)\n",
    "cv2.waitKey()\n",
    "cv2.destroyAllWindows()"
   ]
  },
  {
   "cell_type": "code",
   "execution_count": null,
   "metadata": {
    "pycharm": {
     "name": "#%%\n",
     "is_executing": true
    }
   },
   "outputs": [],
   "source": [
    "\n"
   ]
  }
 ],
 "metadata": {
  "kernelspec": {
   "display_name": "Python 2",
   "language": "python",
   "name": "python2"
  },
  "language_info": {
   "codemirror_mode": {
    "name": "ipython",
    "version": 2
   },
   "file_extension": ".py",
   "mimetype": "text/x-python",
   "name": "python",
   "nbconvert_exporter": "python",
   "pygments_lexer": "ipython2",
   "version": "2.7.17"
  }
 },
 "nbformat": 4,
 "nbformat_minor": 1
}