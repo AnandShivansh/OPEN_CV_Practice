{
 "cells": [
  {
   "cell_type": "code",
   "execution_count": 4,
   "metadata": {
    "collapsed": true
   },
   "outputs": [],
   "source": [
    "import cv2\n",
    "import numpy as np\n",
    "img = cv2.imread('./images/blobs.jpg',0)\n",
    "img_orig = img.copy()\n",
    "cv2.imshow('Oringinal',img)\n",
    "cv2.waitKey()\n",
    "detector = cv2.SimpleBlobDetector_create()\n",
    "keypoints = detector.detect(img)\n",
    "blank = np.zeros((1,1))\n",
    "blobs = cv2.drawKeypoints(img,keypoints,blank,(0,0,255),cv2.DRAW_MATCHES_FLAGS_DRAW_RICH_KEYPOINTS)\n",
    "number_of_blobs = len(keypoints)\n",
    "text = \"Total number of blobs: \"+str(number_of_blobs)\n",
    "cv2.putText(blobs,text,(20,550),cv2.FONT_HERSHEY_SIMPLEX,1,(100,0,255),2)\n",
    "cv2.imshow('Blobs with default params',blobs)\n",
    "cv2.waitKey()\n",
    "# blur = cv2.medianBlur(img,5)\n",
    "\n",
    "cv2.destroyAllWindows()"
   ]
  },
  {
   "cell_type": "code",
   "execution_count": 2,
   "outputs": [],
   "source": [
    "import cv2\n",
    "import numpy as np\n",
    "\n",
    "# Load image\n",
    "image = cv2.imread('./images/blobs.jpg', 0)\n",
    "\n",
    "# Set our filtering parameters\n",
    "# Initialize parameter settiing using cv2.SimpleBlobDetector\n",
    "params = cv2.SimpleBlobDetector_Params()\n",
    "\n",
    "# Set Area filtering parameters\n",
    "params.filterByArea = True\n",
    "params.minArea = 100\n",
    "\n",
    "# Set Circularity filtering parameters\n",
    "params.filterByCircularity = True\n",
    "params.minCircularity = 0.9\n",
    "\n",
    "# Set Convexity filtering parameters\n",
    "params.filterByConvexity = False\n",
    "params.minConvexity = 0.2\n",
    "\n",
    "# Set inertia filtering parameters\n",
    "params.filterByInertia = True\n",
    "params.minInertiaRatio = 0.01\n",
    "\n",
    "# Create a detector with the parameters\n",
    "detector = cv2.SimpleBlobDetector_create(params)\n",
    "\n",
    "# Detect blobs\n",
    "keypoints = detector.detect(image)\n",
    "\n",
    "# Draw blobs on our image as red circles\n",
    "blank = np.zeros((1, 1))\n",
    "blobs = cv2.drawKeypoints(image, keypoints, blank, (0, 0, 255),\n",
    "\t\t\t\t\t\tcv2.DRAW_MATCHES_FLAGS_DRAW_RICH_KEYPOINTS)\n",
    "\n",
    "number_of_blobs = len(keypoints)\n",
    "text = \"Number of Circular Blobs: \" + str(len(keypoints))\n",
    "cv2.putText(blobs, text, (20, 550),\n",
    "\t\t\tcv2.FONT_HERSHEY_SIMPLEX, 1, (0, 100, 255), 2)\n",
    "\n",
    "# Show blobs\n",
    "cv2.imshow(\"Filtering Circular Blobs Only\", blobs)\n",
    "cv2.waitKey(0)\n",
    "cv2.destroyAllWindows()\n",
    "\n",
    "\n",
    "\n"
   ],
   "metadata": {
    "collapsed": false,
    "pycharm": {
     "name": "#%%\n"
    }
   }
  },
  {
   "cell_type": "code",
   "execution_count": null,
   "outputs": [],
   "source": [
    "\n"
   ],
   "metadata": {
    "collapsed": false,
    "pycharm": {
     "name": "#%%\n"
    }
   }
  }
 ],
 "metadata": {
  "kernelspec": {
   "display_name": "Python 2",
   "language": "python",
   "name": "python2"
  },
  "language_info": {
   "codemirror_mode": {
    "name": "ipython",
    "version": 2
   },
   "file_extension": ".py",
   "mimetype": "text/x-python",
   "name": "python",
   "nbconvert_exporter": "python",
   "pygments_lexer": "ipython2",
   "version": "2.7.6"
  }
 },
 "nbformat": 4,
 "nbformat_minor": 0
}