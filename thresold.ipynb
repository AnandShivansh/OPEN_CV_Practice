{
 "cells": [
  {
   "cell_type": "code",
   "execution_count": 9,
   "metadata": {
    "collapsed": true
   },
   "outputs": [],
   "source": [
    "import cv2\n",
    "import numpy as np\n",
    "from matplotlib import pyplot as plt"
   ]
  },
  {
   "cell_type": "code",
   "execution_count": 13,
   "outputs": [],
   "source": [
    "img = cv2.imread('./images/donut1.png',0)\n",
    "cv2.imshow('Original',img)\n",
    "\n",
    "ret,t1 = cv2.threshold(img,127,255,cv2.THRESH_BINARY)\n",
    "cv2.imshow('T_binary',t1)\n",
    "\n",
    "ret,t2 = cv2.threshold(img,127,255,cv2.THRESH_BINARY_INV)\n",
    "cv2.imshow('T_binary_inverse',t2)\n",
    "\n",
    "ret,t3 = cv2.threshold(img,127,255,cv2.THRESH_TRUNC)\n",
    "cv2.imshow('T_trunc',t3)\n",
    "\n",
    "ret,t4 = cv2.threshold(img,127,255,cv2.THRESH_TOZERO)\n",
    "cv2.imshow('T_to_zero',t4)\n",
    "\n",
    "ret,t5 = cv2.threshold(img,127,255,cv2.THRESH_TOZERO_INV)\n",
    "cv2.imshow('T_t_zero_inverse',t5)\n",
    "cv2.waitKey()\n",
    "cv2.destroyAllWindows()"
   ],
   "metadata": {
    "collapsed": false,
    "pycharm": {
     "name": "#%%\n"
    }
   }
  },
  {
   "cell_type": "code",
   "execution_count": 11,
   "outputs": [],
   "source": [
    "img = cv2.imread('./images/Origin_of_Species.jpg',0)\n",
    "cv2.imshow('Original',img)\n",
    "cv2.waitKey()\n",
    "\n",
    "ret,t1 = cv2.threshold(img,127,255,cv2.THRESH_BINARY)\n",
    "cv2.imshow('T_binary',t1)\n",
    "cv2.waitKey()\n",
    "\n",
    "img = cv2.GaussianBlur(img,(3,3),0)\n",
    "t2 = cv2.adaptiveThreshold(img,255,cv2.ADAPTIVE_THRESH_MEAN_C,cv2.THRESH_BINARY,3,5)\n",
    "cv2.imshow('Adap_mean_blur',t2)\n",
    "cv2.waitKey()\n",
    "\n",
    "ret,t3 = cv2.threshold(img,0,255,cv2.THRESH_BINARY+cv2.THRESH_OTSU)\n",
    "cv2.imshow('Otsu Blur',t3)\n",
    "cv2.waitKey()\n",
    "\n",
    "\n",
    "bl = cv2.GaussianBlur(img,(5,5),0)\n",
    "ret,t4 = cv2.threshold(bl,0,255,cv2.THRESH_BINARY+cv2.THRESH_OTSU)\n",
    "cv2.imshow('Gauss otsu blur',t4)\n",
    "cv2.waitKey()\n",
    "cv2.destroyAllWindows()"
   ],
   "metadata": {
    "collapsed": false,
    "pycharm": {
     "name": "#%%\n"
    }
   }
  },
  {
   "cell_type": "code",
   "execution_count": null,
   "outputs": [],
   "source": [
    "\n"
   ],
   "metadata": {
    "collapsed": false,
    "pycharm": {
     "name": "#%%\n"
    }
   }
  }
 ],
 "metadata": {
  "kernelspec": {
   "display_name": "Python 2",
   "language": "python",
   "name": "python2"
  },
  "language_info": {
   "codemirror_mode": {
    "name": "ipython",
    "version": 2
   },
   "file_extension": ".py",
   "mimetype": "text/x-python",
   "name": "python",
   "nbconvert_exporter": "python",
   "pygments_lexer": "ipython2",
   "version": "2.7.6"
  }
 },
 "nbformat": 4,
 "nbformat_minor": 0
}